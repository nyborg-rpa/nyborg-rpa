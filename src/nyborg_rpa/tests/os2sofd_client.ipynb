{
 "cells": [
  {
   "cell_type": "code",
   "execution_count": null,
   "id": "8f424bc6",
   "metadata": {},
   "outputs": [],
   "source": [
    "from nyborg_rpa.utils.os2sofd_client import OS2sofdClient"
   ]
  },
  {
   "cell_type": "code",
   "execution_count": null,
   "id": "196b2de3",
   "metadata": {},
   "outputs": [],
   "source": [
    "client = OS2sofdClient(kommune=\"nyborg\")\n",
    "client"
   ]
  },
  {
   "cell_type": "code",
   "execution_count": null,
   "id": "cdd6d21d",
   "metadata": {},
   "outputs": [],
   "source": [
    "orgs = client.get_all_organizations()\n",
    "print(f\"Fetched {len(orgs)} organizations\")\n",
    "orgs"
   ]
  },
  {
   "cell_type": "code",
   "execution_count": null,
   "id": "3f047fad",
   "metadata": {},
   "outputs": [],
   "source": [
    "org = next(o for o in orgs if o[\"Name\"] == \"RPA\")\n",
    "org"
   ]
  },
  {
   "cell_type": "code",
   "execution_count": null,
   "id": "35336d23",
   "metadata": {},
   "outputs": [],
   "source": [
    "client.get_organization_path(org, separator=\" > \")"
   ]
  }
 ],
 "metadata": {
  "kernelspec": {
   "display_name": ".venv",
   "language": "python",
   "name": "python3"
  },
  "language_info": {
   "codemirror_mode": {
    "name": "ipython",
    "version": 3
   },
   "file_extension": ".py",
   "mimetype": "text/x-python",
   "name": "python",
   "nbconvert_exporter": "python",
   "pygments_lexer": "ipython3",
   "version": "3.13.0"
  }
 },
 "nbformat": 4,
 "nbformat_minor": 5
}
